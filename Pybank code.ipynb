{
 "cells": [
  {
   "cell_type": "code",
   "execution_count": 1,
   "metadata": {},
   "outputs": [
    {
     "name": "stdout",
     "output_type": "stream",
     "text": [
      "Financial Analysis\n",
      "'----------------------------'\n",
      "Total Months : 86\n",
      "Total : 38382578\n",
      "Average  Change : $ -2315.1176470588234 \n",
      "Greatest Increase in Profits : Feb-2012   $ 1926159\n",
      "Greatest Decrease in Profits : Sep-2013  $ -2196167\n"
     ]
    }
   ],
   "source": [
    "import csv\n",
    "with open(r\"Resources/budget_data.csv\") as csvfile:\n",
    " reader = csv.DictReader(csvfile)\n",
    " DatesConsidered = []\n",
    " Profit_Loss = []\n",
    " Change_data=[]\n",
    " previous_amount=0\n",
    " total=0\n",
    " #next(reader)\n",
    " for row in reader:\n",
    "   #  print(row['Date'], row['Profit/Losses'])\n",
    "     DatesConsidered.append(row['Date'])\n",
    "     total=total + int(row['Profit/Losses'])\n",
    "     Profit_Loss.append(row['Profit/Losses'])\n",
    "    # print (Profit_Loss)\n",
    "for Amount_data in Profit_Loss:\n",
    "   #print(Profit_Loss[Amount_data])\n",
    "   Change_data.append(int(Amount_data)- previous_amount)\n",
    "   previous_amount=int(Amount_data)\n",
    "\n",
    "# Drop the first record as it doesnt show any change\n",
    "Change_data.pop(0)\n",
    "#print (Change_data)\n",
    "max_change=Change_data.index(max(Change_data))\n",
    "min_change=Change_data.index(min(Change_data))\n",
    "\n",
    "Date_positive_change=DatesConsidered[max_change + 1]\n",
    "Date_negative_change=DatesConsidered[min_change + 1]\n",
    "\n",
    "# print (max_change)\n",
    "# print (min_change)\n",
    "# print(Date_positive_change)\n",
    "# print(Date_negative_change)\n",
    "total_change=sum(Change_data)\n",
    "#print (total_change)\n",
    "\n",
    "\n",
    "\n",
    "DatesConsidered = set(DatesConsidered)\n",
    "#print (DatesConsidered)\n",
    "#print (f'No of dates ={len(DatesConsidered)}')\n",
    "#print (f'total = {total}')\n",
    "Average=0\n",
    "Average=total_change/(len(DatesConsidered)-1)\n",
    "#print(\"Printing avg\", Average)\n",
    "\n",
    "\n",
    "Header1=\"Financial Analysis\"\n",
    "Line0=\"'----------------------------'\"\n",
    "Line1= f'Total Months : {len(DatesConsidered)}'\n",
    "Line2= f'Total : {total}'\n",
    "Line3= f'Average  Change : $ {Average} '\n",
    "Line4=f'Greatest Increase in Profits : {Date_positive_change}   $ {max(Change_data)}'\n",
    "Line5=f'Greatest Decrease in Profits : {Date_negative_change}  $ {min(Change_data)}'\n",
    "\n",
    "print (f'{Header1}')\n",
    "print (f'{Line0}')\n",
    "print (f'{Line1}')\n",
    "print (f'{Line2}')\n",
    "print (f'{Line3}')\n",
    "print (f'{Line4}')\n",
    "print (f'{Line5}')"
   ]
  },
  {
   "cell_type": "code",
   "execution_count": null,
   "metadata": {},
   "outputs": [],
   "source": []
  }
 ],
 "metadata": {
  "kernelspec": {
   "display_name": "Python [conda env:Anaconda3]",
   "language": "python",
   "name": "conda-env-Anaconda3-py"
  },
  "language_info": {
   "codemirror_mode": {
    "name": "ipython",
    "version": 3
   },
   "file_extension": ".py",
   "mimetype": "text/x-python",
   "name": "python",
   "nbconvert_exporter": "python",
   "pygments_lexer": "ipython3",
   "version": "3.6.5"
  }
 },
 "nbformat": 4,
 "nbformat_minor": 2
}
