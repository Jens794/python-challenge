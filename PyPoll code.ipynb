{
 "cells": [
  {
   "cell_type": "code",
   "execution_count": 2,
   "metadata": {},
   "outputs": [
    {
     "name": "stdout",
     "output_type": "stream",
     "text": [
      "[704200, 492940, 2218231, 105630]\n",
      "['Correy', 'Li', 'Khan', \"O'Tooley\"]\n",
      "3521001\n",
      "[20, 14, 63, 3]\n",
      "Khan\n"
     ]
    }
   ],
   "source": [
    "import csv\n",
    "with open(r\"Resources/election_data.csv\",encoding='utf-8') as csvfile:\n",
    "  reader = csv.DictReader(csvfile)\n",
    "  Candidates_considered = []\n",
    "  Votes = []\n",
    "  Votes_candidates=[]\n",
    "  Unique_Candidates=[]\n",
    "  Percentage_vote=[]\n",
    "\n",
    "  #next(reader)\n",
    "  for row in reader:\n",
    "      #print (row)\n",
    "\n",
    "      #print(row['\\ufeffVoter ID'], row['Candidate'])\n",
    "      Candidates_considered.append(row['Voter ID'])\n",
    "      Votes_candidates.append(row['Candidate'])\n",
    "Total_votes=len(Candidates_considered)\n",
    "\n",
    "Unique_Candidates=set(Votes_candidates)\n",
    "mynewlist = list(Unique_Candidates)\n",
    "# print (Unique_Candidates)\n",
    "# print (mynewlist)\n",
    "# print (len(mynewlist))\n",
    "Votes=  [0] * len(mynewlist)\n",
    "# print (Votes)\n",
    "\n",
    "# Loop unique candidates to get the count of votes they recived\n",
    "for i in range(len(mynewlist)):\n",
    "    # print (i)\n",
    "    # print (mynewlist[i])\n",
    "\n",
    "    count=0\n",
    "    for candidates in Votes_candidates:\n",
    "        #print (candidates)\n",
    "    #    break\n",
    "    #    print (Votes[i])\n",
    "        if mynewlist[i]==candidates:\n",
    "           count=count+1\n",
    "\n",
    "    # print (count)\n",
    "    # print (i)\n",
    "    # print(Votes)\n",
    "\n",
    "    Votes[i]=Votes[i] + count\n",
    "print (Votes)\n",
    "print (mynewlist)\n",
    "print (Total_votes)\n",
    "#percent = round(int(row[6]) / int(row[5]))\n",
    "Percentage_vote = [x / Total_votes * 100 for x in Votes]\n",
    "Percentage_vote = [round(x) for x in Percentage_vote]\n",
    "#Percentage_vote = (Votes/Total_votes)\n",
    "print (Percentage_vote)\n",
    "winner_index=Votes.index(max(Votes))\n",
    "winner=mynewlist[winner_index]\n",
    "print (winner)\n"
   ]
  },
  {
   "cell_type": "code",
   "execution_count": null,
   "metadata": {},
   "outputs": [],
   "source": []
  }
 ],
 "metadata": {
  "kernelspec": {
   "display_name": "Python [conda env:Anaconda3]",
   "language": "python",
   "name": "conda-env-Anaconda3-py"
  },
  "language_info": {
   "codemirror_mode": {
    "name": "ipython",
    "version": 3
   },
   "file_extension": ".py",
   "mimetype": "text/x-python",
   "name": "python",
   "nbconvert_exporter": "python",
   "pygments_lexer": "ipython3",
   "version": "3.6.5"
  }
 },
 "nbformat": 4,
 "nbformat_minor": 2
}
